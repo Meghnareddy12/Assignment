{
 "cells": [
  {
   "cell_type": "code",
   "execution_count": null,
   "id": "b24b426a-c473-40e5-826f-5ead1f2b388e",
   "metadata": {},
   "outputs": [],
   "source": [
    "Task 1: Calculate Area with Conditions\n",
    "Write a Python function calculate_area that takes two parameters: length and width. It\n",
    "should calculate and return the area of a rectangle. However, add a condition: if the length\n",
    "is equal to the width, return \"This is a square!\" instead of the area. Then, write a program to\n",
    "input values for length and width from the user and call the calculate_area function to\n",
    "display either the area or the message."
   ]
  },
  {
   "cell_type": "code",
   "execution_count": 1,
   "id": "73ce10f0-893e-4916-be2a-00066ba9fdf9",
   "metadata": {},
   "outputs": [
    {
     "name": "stdin",
     "output_type": "stream",
     "text": [
      " 3\n",
      " 4\n"
     ]
    },
    {
     "name": "stdout",
     "output_type": "stream",
     "text": [
      "12\n"
     ]
    }
   ],
   "source": [
    "def calculate_area(l,b):\n",
    "    if l==b:\n",
    "        print(\"This is a square\")\n",
    "    else:\n",
    "        print(l*b)\n",
    "l=int(input())\n",
    "b=int(input())\n",
    "calculate_area(l,b)"
   ]
  },
  {
   "cell_type": "code",
   "execution_count": null,
   "id": "7445b9d9-dd49-4a33-91ab-50832b6f2e55",
   "metadata": {},
   "outputs": [],
   "source": [
    "Task 2: Generate Fibonacci Series\n",
    "Problem Statement:\n",
    "Write a Python program that generates the Fibonacci sequence up to a specified number of\n",
    "terms, n. The Fibonacci sequence starts with 0 and 1, and each subsequent number in the\n",
    "sequence is the sum of the two preceding numbers (e.g., 0, 1, 1, 2, 3, 5, 8, ...). Prompt the\n",
    "user to enter the number of terms (n) they want in the sequence and then display the\n",
    "Fibonacci sequence up to that number of terms."
   ]
  },
  {
   "cell_type": "code",
   "execution_count": 2,
   "id": "c77193b4-0d7f-4a42-b773-f34e3d0df646",
   "metadata": {},
   "outputs": [
    {
     "name": "stdin",
     "output_type": "stream",
     "text": [
      " 6\n"
     ]
    },
    {
     "name": "stdout",
     "output_type": "stream",
     "text": [
      "[0, 1, 1, 2, 3, 5]\n"
     ]
    }
   ],
   "source": [
    "n=int(input())\n",
    "a=0\n",
    "b=1\n",
    "l=[0,1]\n",
    "if n<=0:\n",
    "    print(\"invalid\")\n",
    "elif n==1:\n",
    "    print([a])\n",
    "elif n==2:\n",
    "    print([a,b])\n",
    "else:\n",
    "    for i in range(n-2):\n",
    "        c=a+b\n",
    "        l.append(c)\n",
    "        a=b\n",
    "        b=c\n",
    "    print(l)"
   ]
  },
  {
   "cell_type": "code",
   "execution_count": null,
   "id": "beafc337-acc3-41b2-8936-7e0bfd000e5a",
   "metadata": {},
   "outputs": [],
   "source": [
    "Task 3: MySQL Database Operations with Python ( Compulsory )\n",
    "Problem Statement:\n",
    "Your task is to write a Python program that accomplishes the following:\n",
    "First create a database , table and add these column ‘student_id’, ‘first_name’, ‘last_name’,\n",
    "‘age’, ‘grade’.\n",
    "Connects to your MySQL database with python.\n",
    "Inserts a new student record into the \"students\" table with the following details:\n",
    "First Name: \"Alice\"\n",
    "Last Name: \"Smith\"\n",
    "Age: 18\n",
    "Grade: 95.5\n",
    "Updates the grade of the student with the first name \"Alice\" to 97.0.\n",
    "Deletes the student with the last name \"Smith.\"\n",
    "Fetches and displays all student records from the \"students\" table.\n"
   ]
  },
  {
   "cell_type": "code",
   "execution_count": 4,
   "id": "7b4dd97e-ad73-460a-b542-5a7e90a25a45",
   "metadata": {},
   "outputs": [
    {
     "name": "stdout",
     "output_type": "stream",
     "text": [
      "Connected to MySQL database\n",
      "Tablename 'students' created\n",
      "Inserted a new student record\n",
      "Updated grade of the student named Alice\n",
      "Deleted the student with the last name Smith\n",
      "\n",
      "All student records:\n",
      "Connection closed\n"
     ]
    }
   ],
   "source": [
    "import mysql.connector\n",
    "\n",
    "host = \"localhost\"\n",
    "user = \"root\"\n",
    "password = \"19311A05p6@#\"\n",
    "database = \"student\"\n",
    "\n",
    "try:\n",
    "    connection = mysql.connector.connect(\n",
    "        host=host,\n",
    "        user=user,\n",
    "        password=password,\n",
    "        database=database\n",
    "    )\n",
    "\n",
    "    if connection.is_connected():\n",
    "        print(\"Connected to MySQL database\")\n",
    "        cursor = connection.cursor()\n",
    "        create_table_query = \"\"\"\n",
    "        CREATE TABLE IF NOT EXISTS students (\n",
    "            student_id INT AUTO_INCREMENT PRIMARY KEY,\n",
    "            first_name VARCHAR(255),\n",
    "            last_name VARCHAR(255),\n",
    "            age INT,\n",
    "            grade FLOAT\n",
    "        );\n",
    "        \"\"\"\n",
    "        cursor.execute(create_table_query)\n",
    "        print(\"Tablename 'students' created\")\n",
    "\n",
    "        insert_query = \"\"\"\n",
    "        INSERT INTO students (first_name, last_name, age, grade)\n",
    "        VALUES ('Alice', 'Smith', 18, 95.5);\n",
    "        \"\"\"\n",
    "        cursor.execute(insert_query)\n",
    "        print(\"Inserted a new student record\")\n",
    "\n",
    "        update_query = \"\"\"\n",
    "        UPDATE students\n",
    "        SET grade = 97.0\n",
    "        WHERE first_name = 'Alice';\n",
    "        \"\"\"\n",
    "        cursor.execute(update_query)\n",
    "        print(\"Updated grade of the student named Alice\")\n",
    "\n",
    "        delete_query = \"\"\"\n",
    "        DELETE FROM students\n",
    "        WHERE last_name = 'Smith';\n",
    "        \"\"\"\n",
    "        cursor.execute(delete_query)\n",
    "        print(\"Deleted the student with the last name Smith\")\n",
    "\n",
    "        select_all_query = \"SELECT * FROM students;\"\n",
    "        cursor.execute(select_all_query)\n",
    "        results = cursor.fetchall()\n",
    "\n",
    "        print(\"\\nAll student records:\")\n",
    "        for row in results:\n",
    "            print(row)\n",
    "\n",
    "except mysql.connector.Error as err:\n",
    "    print(f\"Error: {err}\")\n",
    "\n",
    "finally:\n",
    "    if 'connection' in locals():\n",
    "        if 'cursor' in locals():\n",
    "            cursor.close()\n",
    "        connection.close()\n",
    "        print(\"Connection closed\")\n"
   ]
  },
  {
   "cell_type": "code",
   "execution_count": null,
   "id": "479c5d0d-a2ac-4989-91e5-50b83e550f54",
   "metadata": {},
   "outputs": [],
   "source": []
  }
 ],
 "metadata": {
  "kernelspec": {
   "display_name": "Python 3 (ipykernel)",
   "language": "python",
   "name": "python3"
  },
  "language_info": {
   "codemirror_mode": {
    "name": "ipython",
    "version": 3
   },
   "file_extension": ".py",
   "mimetype": "text/x-python",
   "name": "python",
   "nbconvert_exporter": "python",
   "pygments_lexer": "ipython3",
   "version": "3.11.2"
  }
 },
 "nbformat": 4,
 "nbformat_minor": 5
}
